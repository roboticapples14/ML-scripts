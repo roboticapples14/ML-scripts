{
 "cells": [
  {
   "cell_type": "code",
   "execution_count": 1,
   "metadata": {},
   "outputs": [
    {
     "name": "stderr",
     "output_type": "stream",
     "text": [
      "/Users/nvalett/Documents/Natalie/DTU/ML/ML-scripts/toolboxes/toolbox_02450.py:98: SyntaxWarning: \"is\" with a literal. Did you mean \"==\"?\n",
      "  if display is 'verbose':\n",
      "/Users/nvalett/Documents/Natalie/DTU/ML/ML-scripts/toolboxes/toolbox_02450.py:106: SyntaxWarning: \"is\" with a literal. Did you mean \"==\"?\n",
      "  if display is 'verbose':\n"
     ]
    }
   ],
   "source": [
    "from toolboxes.exam_toolbox import *"
   ]
  },
  {
   "cell_type": "code",
   "execution_count": null,
   "metadata": {},
   "outputs": [],
   "source": [
    "mt = model_test()\n",
    "mt.mcnemar_test(self,n1,n2)"
   ]
  }
 ],
 "metadata": {
  "interpreter": {
   "hash": "cf1cc9488f986e55b9ad02ec3dbe006a9544ef0e041cc52f3db2baca54acebc8"
  },
  "kernelspec": {
   "display_name": "Python 3.9.7 64-bit ('base': conda)",
   "language": "python",
   "name": "python3"
  },
  "language_info": {
   "codemirror_mode": {
    "name": "ipython",
    "version": 3
   },
   "file_extension": ".py",
   "mimetype": "text/x-python",
   "name": "python",
   "nbconvert_exporter": "python",
   "pygments_lexer": "ipython3",
   "version": "3.9.7"
  },
  "orig_nbformat": 4
 },
 "nbformat": 4,
 "nbformat_minor": 2
}
