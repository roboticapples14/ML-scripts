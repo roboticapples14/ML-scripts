{
 "cells": [
  {
   "cell_type": "code",
   "execution_count": 1,
   "metadata": {},
   "outputs": [
    {
     "name": "stderr",
     "output_type": "stream",
     "text": [
      "/Users/nvalett/opt/anaconda3/lib/python3.9/site-packages/scipy/__init__.py:146: UserWarning: A NumPy version >=1.16.5 and <1.23.0 is required for this version of SciPy (detected version 1.23.5\n",
      "  warnings.warn(f\"A NumPy version >={np_minversion} and <{np_maxversion}\"\n"
     ]
    }
   ],
   "source": [
    "import toolboxes.toolbox_02450 as tb\n",
    "import numpy as np\n",
    "import pandas as pd\n",
    "from toolboxes.exam_toolbox import *"
   ]
  },
  {
   "cell_type": "markdown",
   "metadata": {},
   "source": [
    "Sprint 2018 #23"
   ]
  },
  {
   "cell_type": "code",
   "execution_count": 2,
   "metadata": {},
   "outputs": [
    {
     "name": "stdout",
     "output_type": "stream",
     "text": [
      "[0.4236489301936017, 0.5815622799930735, 0.5082749058458984, 0.4377768694207385]\n",
      "O5_correct:  1.019339149413812 O5_wrong:  0.9319238360395001\n",
      "O6_correct:  1.0052112101866753 O6_wrong:  0.9460517752666369\n"
     ]
    }
   ],
   "source": [
    "weights = np.array([[0.1000,0.0714,0.0469,0.0319],\n",
    "                [0.1000,0.0714,0.0469,0.0319],\n",
    "                [0.1000,0.1667,0.1094,0.2059],\n",
    "                [0.1000,0.0714,0.0469,0.0319],\n",
    "                [0.1000,0.1667,0.1094,0.2059],\n",
    "                [0.1000,0.0714,0.0469,0.0882],\n",
    "                [0.1000,0.0714,0.0469,0.0319],\n",
    "                [0.1000,0.1667,0.3500,0.2383],\n",
    "                [0.1000,0.0714,0.1500,0.1021],\n",
    "                [0.1000,0.0714,0.0469,0.0319]])\n",
    "# We can see from the figure, that in the last round O3 and O6 are wrong \n",
    "last_wrong = [0, 0, 1, 0, 0, 1, 0, 0, 0, 0]\n",
    "\n",
    "ada = adaboost()\n",
    "alpha = ada.get_alpha_given_w(weights,last_wrong)\n",
    "\n",
    "# Now we look at O5 in the boosting round figures.\n",
    "# It is correctly classified in Round 2 and 4\n",
    "O5_correctly = alpha[1] + alpha[3]\n",
    "O5_wrong = alpha[0] + alpha[2]\n",
    "print (\"O5_correct: \",O5_correctly,\"O5_wrong: \",O5_wrong)\n",
    "# Now we look at O6.\n",
    "# It is correctly classified in Round 1 and 2\n",
    "O6_correctly = alpha[0] + alpha[1]\n",
    "O6_wrong = alpha[2] + alpha[3]\n",
    "print (\"O6_correct: \",O6_correctly,\"O6_wrong: \",O6_wrong)\n",
    "# For both observations, alpha is higher for the correct answer, so they will be correctly classified "
   ]
  },
  {
   "cell_type": "code",
   "execution_count": null,
   "metadata": {},
   "outputs": [],
   "source": []
  }
 ],
 "metadata": {
  "interpreter": {
   "hash": "cf1cc9488f986e55b9ad02ec3dbe006a9544ef0e041cc52f3db2baca54acebc8"
  },
  "kernelspec": {
   "display_name": "Python 3.9.7 64-bit ('base': conda)",
   "language": "python",
   "name": "python3"
  },
  "language_info": {
   "codemirror_mode": {
    "name": "ipython",
    "version": 3
   },
   "file_extension": ".py",
   "mimetype": "text/x-python",
   "name": "python",
   "nbconvert_exporter": "python",
   "pygments_lexer": "ipython3",
   "version": "3.9.7"
  },
  "orig_nbformat": 4
 },
 "nbformat": 4,
 "nbformat_minor": 2
}
