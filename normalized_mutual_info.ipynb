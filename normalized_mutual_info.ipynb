{
 "cells": [
  {
   "cell_type": "code",
   "execution_count": 1,
   "metadata": {},
   "outputs": [
    {
     "name": "stderr",
     "output_type": "stream",
     "text": [
      "/Users/nvalett/Documents/Natalie/DTU/ML/ML-scripts/toolboxes/toolbox_02450.py:98: SyntaxWarning: \"is\" with a literal. Did you mean \"==\"?\n",
      "  if display is 'verbose':\n",
      "/Users/nvalett/Documents/Natalie/DTU/ML/ML-scripts/toolboxes/toolbox_02450.py:106: SyntaxWarning: \"is\" with a literal. Did you mean \"==\"?\n",
      "  if display is 'verbose':\n"
     ]
    }
   ],
   "source": [
    "from sklearn.metrics import normalized_mutual_info_score\n",
    "from toolboxes.toolbox_02450 import clusterval\n",
    "import numpy as np\n",
    "import pandas as pd"
   ]
  },
  {
   "cell_type": "code",
   "execution_count": 4,
   "metadata": {},
   "outputs": [
    {
     "name": "stdout",
     "output_type": "stream",
     "text": [
      "(0.4666666666666667, 0.2, 0.299604398509345, nan)\n",
      "R(and): 0.4666666666666667\n",
      "Jaccard: 0.2\n",
      "NMI: 0.299604398509345\n",
      "joint entropy: nan\n"
     ]
    },
    {
     "name": "stderr",
     "output_type": "stream",
     "text": [
      "/Users/nvalett/Documents/Natalie/DTU/ML/ML-scripts/toolboxes/toolbox_02450.py:536: RuntimeWarning: invalid value encountered in divide\n",
      "  p_ij[k,c] = m_ij.astype(float)/m_i[k]\n",
      "/Users/nvalett/Documents/Natalie/DTU/ML/ML-scripts/toolboxes/toolbox_02450.py:536: RuntimeWarning: invalid value encountered in divide\n",
      "  p_ij[k,c] = m_ij.astype(float)/m_i[k]\n"
     ]
    }
   ],
   "source": [
    "true = np.array([1,1,1,2,2,2,2,2,3,3])\n",
    "pred_clusters = np.array([1,3,1,2,1,2,1,1,1,1])\n",
    "\n",
    "\n",
    "Rand, jaccard, NMI, joint_entropy = clusterval(true, pred_clusters)\n",
    "\n",
    "print(\"R(and):\", Rand)\n",
    "print(\"Jaccard:\", jaccard)\n",
    "print(\"NMI:\", NMI)\n",
    "print(\"joint entropy:\", joint_entropy)"
   ]
  },
  {
   "cell_type": "code",
   "execution_count": 8,
   "metadata": {},
   "outputs": [
    {
     "data": {
      "text/plain": [
       "0.2664572091788772"
      ]
     },
     "execution_count": 8,
     "metadata": {},
     "output_type": "execute_result"
    }
   ],
   "source": [
    "true = [1,1,1,2,2,2,2,2,3,3]\n",
    "pred_clusters = [1,3,1,2,1,2,1,1,1,1]\n",
    "# average method =  ‘min’, ‘geometric’, ‘arithmetic’, and ‘max’.\n",
    "normalized_mutual_info_score(true, pred_clusters, average_method='max')"
   ]
  },
  {
   "cell_type": "markdown",
   "metadata": {},
   "source": [
    "Mutual Information with entropy:"
   ]
  },
  {
   "cell_type": "code",
   "execution_count": 27,
   "metadata": {},
   "outputs": [],
   "source": []
  },
  {
   "cell_type": "code",
   "execution_count": 28,
   "metadata": {},
   "outputs": [
    {
     "name": "stdout",
     "output_type": "stream",
     "text": [
      "0.07202043355384449\n"
     ]
    },
    {
     "name": "stderr",
     "output_type": "stream",
     "text": [
      "/var/folders/py/kw30nbf92q9fms5c67mmgz6m0000gn/T/ipykernel_12698/2045129901.py:17: DeprecationWarning: scipy.histogram is deprecated and will be removed in SciPy 2.0.0, use numpy.histogram instead\n",
      "  hx, bx= histogram(x, bins=int(x.size/10), density=True)\n",
      "/var/folders/py/kw30nbf92q9fms5c67mmgz6m0000gn/T/ipykernel_12698/2045129901.py:20: DeprecationWarning: scipy.digitize is deprecated and will be removed in SciPy 2.0.0, use numpy.digitize instead\n",
      "  Px= compute_distribution(digitize(x,bx))\n",
      "/var/folders/py/kw30nbf92q9fms5c67mmgz6m0000gn/T/ipykernel_12698/2045129901.py:26: DeprecationWarning: scipy.digitize is deprecated and will be removed in SciPy 2.0.0, use numpy.digitize instead\n",
      "  condPxy= compute_distribution(digitize(x1,bx))\n"
     ]
    }
   ],
   "source": [
    "mi = mutual_information(true, pred_clusters)\n",
    "entropy_x = entropy(true)\n",
    "entropy_y = entropy(pred_clusters)\n",
    "\n",
    "print(mi / math.sqrt(entropy_x) * math.sqrt(entropy_y))"
   ]
  },
  {
   "cell_type": "code",
   "execution_count": null,
   "metadata": {},
   "outputs": [],
   "source": [
    "def get_entropy():\n",
    "    entropy = ( (1-(p_ij*np.log2(p_ij+EPS)).sum(axis=1))*m_i.T ).sum() / (N*K) \n"
   ]
  }
 ],
 "metadata": {
  "interpreter": {
   "hash": "cf1cc9488f986e55b9ad02ec3dbe006a9544ef0e041cc52f3db2baca54acebc8"
  },
  "kernelspec": {
   "display_name": "Python 3.9.7 64-bit ('base': conda)",
   "language": "python",
   "name": "python3"
  },
  "language_info": {
   "codemirror_mode": {
    "name": "ipython",
    "version": 3
   },
   "file_extension": ".py",
   "mimetype": "text/x-python",
   "name": "python",
   "nbconvert_exporter": "python",
   "pygments_lexer": "ipython3",
   "version": "3.9.7"
  },
  "orig_nbformat": 4
 },
 "nbformat": 4,
 "nbformat_minor": 2
}
