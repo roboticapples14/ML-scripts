{
 "cells": [
  {
   "cell_type": "code",
   "execution_count": 1,
   "metadata": {},
   "outputs": [],
   "source": [
    "from toolboxes.toolbox_extended import *"
   ]
  },
  {
   "cell_type": "code",
   "execution_count": 4,
   "metadata": {},
   "outputs": [
    {
     "name": "stdout",
     "output_type": "stream",
     "text": [
      "TP: 14 FN: 18 TN: 14 FP: 10\n",
      "Accuracy: 0.5\n",
      "Error rate: 0.5\n",
      "Recall: 0.4375\n",
      "Precision: 0.5833333333333334\n",
      "FPR: 0.4166666666666667\n",
      "TPR: 0.4375\n"
     ]
    }
   ],
   "source": [
    "confusion_matrix(tp=14, fn=18, fp=10, tn=14)"
   ]
  },
  {
   "cell_type": "markdown",
   "metadata": {},
   "source": [
    "CALCULATE RAND INDEX AND JACCARD INDEX FROM f00, f11, f10, f01"
   ]
  },
  {
   "cell_type": "code",
   "execution_count": 3,
   "metadata": {},
   "outputs": [
    {
     "name": "stderr",
     "output_type": "stream",
     "text": [
      "/var/folders/py/kw30nbf92q9fms5c67mmgz6m0000gn/T/ipykernel_22629/2891691117.py:6: DeprecationWarning: `np.float` is a deprecated alias for the builtin `float`. To silence this warning, use `float` by itself. Doing this will not modify any behavior and is safe. If you specifically wanted the numpy scalar type, use `np.float64` here.\n",
      "Deprecated in NumPy 1.20; for more details and guidance: https://numpy.org/devdocs/release/1.20.0-notes.html#deprecations\n",
      "  rand = np.float(f00+f11)/(f00+f01+f10+f11)\n",
      "/var/folders/py/kw30nbf92q9fms5c67mmgz6m0000gn/T/ipykernel_22629/2891691117.py:7: DeprecationWarning: `np.float` is a deprecated alias for the builtin `float`. To silence this warning, use `float` by itself. Doing this will not modify any behavior and is safe. If you specifically wanted the numpy scalar type, use `np.float64` here.\n",
      "Deprecated in NumPy 1.20; for more details and guidance: https://numpy.org/devdocs/release/1.20.0-notes.html#deprecations\n",
      "  jaccard = np.float(f11)/(f01+f10+f11)\n"
     ]
    },
    {
     "data": {
      "text/plain": [
       "0.8682042833607908"
      ]
     },
     "execution_count": 3,
     "metadata": {},
     "output_type": "execute_result"
    }
   ],
   "source": [
    "import numpy as np\n",
    "f00 = 234 # different class, different cluster    \n",
    "f11 = 293   # same class, same cluster\n",
    "f10 = 40   # same class, different cluster    \n",
    "f01 = 40    # different class, same cluster\n",
    "rand = np.float(f00+f11)/(f00+f01+f10+f11)\n",
    "jaccard = np.float(f11)/(f01+f10+f11)\n",
    "\n",
    "rand"
   ]
  },
  {
   "cell_type": "code",
   "execution_count": null,
   "metadata": {},
   "outputs": [],
   "source": []
  }
 ],
 "metadata": {
  "interpreter": {
   "hash": "cf1cc9488f986e55b9ad02ec3dbe006a9544ef0e041cc52f3db2baca54acebc8"
  },
  "kernelspec": {
   "display_name": "Python 3.9.7 64-bit ('base': conda)",
   "language": "python",
   "name": "python3"
  },
  "language_info": {
   "codemirror_mode": {
    "name": "ipython",
    "version": 3
   },
   "file_extension": ".py",
   "mimetype": "text/x-python",
   "name": "python",
   "nbconvert_exporter": "python",
   "pygments_lexer": "ipython3",
   "version": "3.9.7"
  },
  "orig_nbformat": 4
 },
 "nbformat": 4,
 "nbformat_minor": 2
}
